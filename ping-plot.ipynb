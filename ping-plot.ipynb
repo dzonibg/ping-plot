{
 "cells": [
  {
   "cell_type": "code",
   "execution_count": null,
   "metadata": {
    "scrolled": false
   },
   "outputs": [],
   "source": [
    "import os\n",
    "import numpy as np\n",
    "import matplotlib.pyplot as plt\n",
    "%matplotlib notebook\n",
    "\n",
    "\n",
    "output = os.popen('ping -c 500 -i 0.5 8.8.8.8').read()\n",
    "# print(output)\n",
    "\n",
    "rows = output.split('\\n')\n",
    "\n",
    "i=0\n",
    "indexes = []\n",
    "values = []\n",
    "\n",
    "\n",
    "for row in rows:\n",
    "    milis = row.split('=')\n",
    "    try:\n",
    "        if  (milis != 0):\n",
    "                word = milis[3].split(\" \")\n",
    "                ms = word[0]\n",
    "                values.append(float(ms))\n",
    "                indexes.append(i)\n",
    "    except:\n",
    "        pass\n",
    "    i = i+1\n",
    "\n",
    "print(values)\n",
    "print(indexes)"
   ]
  },
  {
   "cell_type": "code",
   "execution_count": null,
   "metadata": {},
   "outputs": [],
   "source": [
    "plt.rcParams['figure.figsize'] = [20, 10] \n",
    "pingplot = plt.plot(indexes, values)\n",
    "\n",
    "\n",
    "### DONE FIRST GRAPH\n",
    "\n",
    "### MEAN GRAPH\n",
    "\n",
    "avg = sum(values) / len(values)\n",
    "x = np.linspace(avg, avg, len(values))\n",
    "\n",
    "plt.grid()\n",
    "plt.plot(indexes, x)\n",
    "print(avg);"
   ]
  },
  {
   "cell_type": "code",
   "execution_count": null,
   "metadata": {
    "scrolled": true
   },
   "outputs": [],
   "source": [
    "sortedValues = sorted(values)\n",
    "\n",
    "totalValues = int(len(sortedValues))\n",
    "maxValue = max(sortedValues)\n",
    "toTake = int(totalValues/20)\n",
    "\n",
    "print(totalValues, toTake)\n",
    "\n",
    "maxValues = []\n",
    "\n",
    "for current in range(totalValues-toTake, totalValues):\n",
    "    maxValues.append(sortedValues[current])\n",
    "print(maxValues);\n",
    "\n",
    "maxValuesAvg = sum(maxValues) / len(maxValues)\n",
    "print(\"5% max avg:\", maxValuesAvg)"
   ]
  },
  {
   "cell_type": "code",
   "execution_count": null,
   "metadata": {},
   "outputs": [],
   "source": [
    "minValues = []\n",
    "\n",
    "for current in range(0, totalValues - toTake):\n",
    "    minValues.append(sortedValues[current])\n",
    "print(minValues)\n",
    "\n",
    "minValuesAvg = sum(minValues) / len(minValues)\n",
    "print(\"95% low:\", minValuesAvg)"
   ]
  },
  {
   "cell_type": "code",
   "execution_count": null,
   "metadata": {},
   "outputs": [],
   "source": [
    "plt.rcParams['figure.figsize'] = [20, 10] \n",
    "pingplot = plt.plot(indexes, values)\n",
    "\n",
    "\n",
    "### DONE FIRST GRAPH\n",
    "\n",
    "### MEAN GRAPH\n",
    "\n",
    "avg = sum(values) / len(values)\n",
    "x = np.linspace(avg, avg, len(values))\n",
    "y = np.linspace(minValuesAvg, minValuesAvg, len(values))\n",
    "z = np.linspace(maxValuesAvg, maxValuesAvg, len(values))\n",
    "\n",
    "\n",
    "plt.grid()\n",
    "plt.plot(indexes, x)\n",
    "plt.plot(indexes, y)\n",
    "plt.plot(indexes, z)\n",
    "print(avg);"
   ]
  },
  {
   "cell_type": "code",
   "execution_count": null,
   "metadata": {},
   "outputs": [],
   "source": []
  },
  {
   "cell_type": "code",
   "execution_count": null,
   "metadata": {},
   "outputs": [],
   "source": []
  }
 ],
 "metadata": {
  "kernelspec": {
   "display_name": "Python 3",
   "language": "python",
   "name": "python3"
  },
  "language_info": {
   "codemirror_mode": {
    "name": "ipython",
    "version": 3
   },
   "file_extension": ".py",
   "mimetype": "text/x-python",
   "name": "python",
   "nbconvert_exporter": "python",
   "pygments_lexer": "ipython3",
   "version": "3.6.8"
  }
 },
 "nbformat": 4,
 "nbformat_minor": 4
}
